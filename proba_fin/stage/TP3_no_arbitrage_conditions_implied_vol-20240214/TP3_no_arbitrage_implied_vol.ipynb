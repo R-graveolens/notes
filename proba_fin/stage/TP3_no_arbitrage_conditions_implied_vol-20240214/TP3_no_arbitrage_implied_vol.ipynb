{
 "cells": [
  {
   "cell_type": "markdown",
   "metadata": {},
   "source": [
    "# Calibration, volatilité locale et stochastique - TP\n",
    "M2 Probabilités et Finance\n",
    "\n",
    "Stefano De Marco"
   ]
  },
  {
   "cell_type": "markdown",
   "metadata": {},
   "source": [
    "## The SVI parameterisation (again)\n",
    "\n",
    "\n",
    "Recall that the implied total variance $w(T,k)$ for maturity $T$ and log-forward moneyness $k$ is defined by\n",
    "\n",
    "$$\n",
    "w(T,k) = T \\, \\hat \\sigma^2(T, k)\n",
    "$$\n",
    "\n",
    "where $\\hat \\sigma(T, k)$ denotes the implied volatility for the same maturity and log-forward moneyness.\n",
    "\n",
    "__Recall the SVI parameterisation__ proposed by Gatheral in 2004 to model the total implied variance smile for a fixed maturity $T$ :\n",
    "\n",
    "\\begin{equation}\n",
    "w_\\mathrm{SVI}(k) = a + b \\left(\\rho (k - \\bar k) + \\sqrt{(k - \\bar k)^2 + \\sigma^2} \\right),\n",
    "\\qquad k \\in \\mathbb R,\n",
    "\\end{equation}\n",
    "\n",
    "where the parameters $(a, b, \\rho, \\bar k, \\sigma)$ satisfy\n",
    "\n",
    "$$\n",
    "b > 0 \\qquad \\quad \\rho \\in (-1,1) \\qquad \\quad \\sigma > 0, \\qquad \\quad a, \\bar k \\in \\mathbb R.\n",
    "$$\n",
    "\n",
    "Since $\\min_{k \\in \\mathbb R} w_\\mathrm{SVI}(k) = a + b \\, \\sigma \\, \\sqrt{1 - \\rho^2}$, in general we also have to impose the condition $a + b \\, \\sigma \\, \\sqrt{1 - \\rho^2} > 0$ in order to grant positivity of the function $w_\\mathrm{SVI}$.\n",
    "\n",
    "### $\\blacktriangleright$ The goal of this notebook is to discuss and analyse numerically the no-arbitrage conditions on the SVI parameterization."
   ]
  },
  {
   "cell_type": "markdown",
   "metadata": {},
   "source": [
    "First of all, let us define the SVI function (which we have already implemented in the previous notebook)."
   ]
  },
  {
   "cell_type": "code",
   "execution_count": null,
   "metadata": {},
   "outputs": [],
   "source": [
    "import numpy as np\n",
    "import matplotlib.pyplot as plt\n",
    "\n",
    "def SVI(k, a, b , rho, k_bar, sig):\n",
    "    total_variance = a + b*( rho*(k - k_bar) + np.sqrt( (k - k_bar)*(k - k_bar) + sig*sig) )\n",
    "    \n",
    "    return total_variance"
   ]
  },
  {
   "cell_type": "markdown",
   "metadata": {},
   "source": [
    "Let us have a look at a few examples of SVI functions"
   ]
  },
  {
   "cell_type": "code",
   "execution_count": null,
   "metadata": {},
   "outputs": [],
   "source": [
    "########################\n",
    "# A parameter set\n",
    "########################\n",
    "a = 0.04\n",
    "b = 0.4\n",
    "rho = -0.7\n",
    "k_bar = 0.1\n",
    "sig = 0.2"
   ]
  },
  {
   "cell_type": "code",
   "execution_count": null,
   "metadata": {},
   "outputs": [],
   "source": [
    "################################################\n",
    "# TO DO : define a test for the positivity condition\n",
    "################################################\n",
    "def test_positivity(a, b, rho):\n",
    "    assert(rho <= 1); assert(-1 <= rho)\n",
    "    assert(b > 0)\n",
    "    \n",
    "    ## We check the positivity of the minimum \n",
    "    minimum = ???\n",
    "    assert(minimum > 0)\n",
    "    \n",
    "    print(\"\\n Positivity test: OK \\n\")\n",
    "    \n",
    "    return 0\n",
    "\n",
    "test_positivity(a, b, rho)"
   ]
  },
  {
   "cell_type": "code",
   "execution_count": null,
   "metadata": {},
   "outputs": [],
   "source": [
    "#############################################\n",
    "## TO DO: initialise and plot a SVI slice\n",
    "#############################################\n",
    "log_moneyness = np.linspace(-0.5, 0.5, 200)\n",
    "\n",
    "total_variances = ????\n",
    "\n",
    "plt.plot( ???? ,  ???? , color='royalblue', linewidth=1.5, \\\n",
    "         label=r\"$a$=%1.2f,  $b$=%1.2f,  $\\rho$=%1.2f,  $k_{bar}$=%1.2f,  $\\sigma$=%1.2f\" %(a,b,rho,k_bar,sig))\n",
    "\n",
    "plt.axvline(0., linestyle=\"--\")\n",
    "\n",
    "plt.xlabel(\"log-forward moneyness $k$\", fontsize=14)\n",
    "plt.ylabel(\"Total variance\", fontsize=14)\n",
    "plt.title(r\"SVI parameterisation (implied variance)\", fontsize=15)\n",
    "\n",
    "plt.legend(loc=9, fontsize=14, bbox_to_anchor=(1.6, 1.0), ncol=1)\n",
    "\n",
    "#######################################################\n",
    "## TO DO: plot the corresponding SVI total implied vol\n",
    "#######################################################\n",
    "total_vols = ????\n",
    "\n",
    "plt.figure()\n",
    "\n",
    "plt.plot( ???? , ???? , color=\"indianred\", linewidth=1.5, \\\n",
    "         label=r\"$a$=%1.2f,  $b$=%1.2f,  $\\rho$=%1.2f,  $k_{bar}$=%1.2f,  $\\sigma$=%1.2f\" %(a,b,rho,k_bar,sig))\n",
    "\n",
    "plt.axvline(0., linestyle=\"--\")\n",
    "\n",
    "plt.xlabel(\"log-forward moneyness $k$\", fontsize=14)\n",
    "plt.ylabel(\"Total volatility\", fontsize=14)\n",
    "plt.title(r\"SVI parameterisation (implied volatility)\", fontsize=15)\n",
    "\n",
    "plt.legend(loc=9, fontsize=14, bbox_to_anchor=(1.6, 1.0), ncol=1)\n",
    "\n",
    "plt.show()"
   ]
  },
  {
   "cell_type": "markdown",
   "metadata": {},
   "source": [
    "#### $\\blacktriangleright$ The sufficient conditions for the absence of static arbitrage on an SVI slice\n",
    "\n",
    "The two conditions \n",
    "\n",
    "1) $$\n",
    "g_{\\mathrm{SVI}}(k) := \n",
    "\\frac 12 w''_{\\mathrm{SVI}}(k)\n",
    "+ \\left(1-\\frac{k \\, w'_{\\mathrm{SVI}}(k)}{2 \\, w_{\\mathrm{SVI}}(k)}\\right)^2 -\\frac {(w'_{\\mathrm{SVI}}(k))^2}{4}\\left(\\frac 1{w_{\\mathrm{SVI}}(k)}+\\frac{1}{4}\\right) \\geq 0,\n",
    "\\qquad \\forall k \\in \\mathbb R\n",
    "$$\n",
    "\n",
    "3) $$\n",
    "\\lim_{k \\to \\infty} d_1 \\left(k, w_{\\mathrm{SVI}}(k) \\right) \n",
    "= \\lim_{k \\to \\infty} \\left( -\\frac k{\\sqrt{w_{\\mathrm{SVI}}(k)}} + \\frac 12 {\\sqrt{w_{\\mathrm{SVI}}(k)}} \\right) = -\\infty\n",
    "$$\n",
    "\n",
    "grant the absence of arbitrage on the SVI parameterisation $w_{\\mathrm{SVI}}(\\cdot)$ (for the fixed maturity $T$).\n",
    "\n",
    "Note that, as we have discussed in the lectures: \n",
    "+ Condition 1 is equivalent to the convexity of the corresponding call price with respect to strike\n",
    "\n",
    "$$\\partial_{KK} Call(T, K) \\ge 0 \\qquad \\mbox{ for every } K \\ge 0, $$\n",
    "\n",
    "where $Call(T, K) = Call_{BS}\\Bigl(T, K,  \\sigma(T,K) = \\frac 1{\\sqrt T}\\sqrt{ w_{\\mathrm{SVI}} \\bigl(\\log \\frac K {F_0^T} \\bigr) } \\Bigr)$.\n",
    "\n",
    "+ Condition 3 is equivalent to $$\\lim_{K \\to \\infty} Call(T, K) = 0.$$"
   ]
  },
  {
   "cell_type": "markdown",
   "metadata": {},
   "source": [
    "#### $\\blacktriangleright$ TO DO (condition 3): show that the condition $\\lim_{k \\to \\infty} d_1(k,w(k)) = -\\infty$ is satisfied if\n",
    "\n",
    "$$\n",
    "\\limsup_{k \\to \\infty} \\frac{w(k)}{2 k} < 1.\n",
    "$$\n",
    "\n",
    "#### Then, compute $\\lim_{k \\to \\infty} \\frac{w_{\\mathrm{SVI}}(k)}k$ and infer that the SVI parameterisation $w_{\\mathrm{SVI}}$ satisfies condition 3 as soon as\n",
    "$$ b (1 + \\rho) < 2. $$"
   ]
  },
  {
   "cell_type": "code",
   "execution_count": null,
   "metadata": {},
   "outputs": [],
   "source": [
    "############################################################\n",
    "# TO DO : define a test for the asymptotic slope condition above\n",
    "############################################################\n",
    "def test_slope(b, rho):\n",
    "    right_slope = ???\n",
    "            \n",
    "    print(\"\\n Right slope b*(1 + rho) = %1.4f\" %right_slope)\n",
    "    \n",
    "    assert(right_slope < 2)\n",
    "    \n",
    "    pass\n",
    "\n",
    "test_slope(b, rho)"
   ]
  },
  {
   "cell_type": "markdown",
   "metadata": {},
   "source": [
    "#### $\\blacktriangleright$ Condition 1: we accept to test it numerically (...and therefore only partially!)\n",
    "\n",
    "We will use the formulas\n",
    "\n",
    "$$\n",
    "\\begin{aligned}\n",
    "&w'_\\mathrm{SVI}(k) =  b \\rho + b \\frac{k - \\bar k}{\\sqrt{(k - \\bar k)^2 + \\sigma^2}}\n",
    "\\\\\n",
    "&w''_\\mathrm{SVI}(k) =  \\frac{b \\, \\sigma^2}{\\left((k - \\bar k)^2 + \\sigma^2\\right)^{3/2}}\n",
    "\\end{aligned}\n",
    "$$\n",
    "\n",
    "$$\n",
    "g_{\\mathrm{SVI}}(k)= \n",
    "\\frac 12 w''_{\\mathrm{SVI}}(k)\n",
    "+ \\left(1-\\frac{k \\, w'_{\\mathrm{SVI}}(k)}{2 \\, w_{\\mathrm{SVI}}(k)}\\right)^2 -\\frac {(w'_{\\mathrm{SVI}}(k))^2}{4}\\left(\\frac 1{w_{\\mathrm{SVI}}(k)}+\\frac{1}{4}\\right) \\geq 0,\n",
    "\\qquad \\forall k \\in \\mathbb R\n",
    "$$"
   ]
  },
  {
   "cell_type": "code",
   "execution_count": null,
   "metadata": {},
   "outputs": [],
   "source": [
    "##############################################\n",
    "# Numerical check of the no-butterfly condition\n",
    "# on a grid of points\n",
    "##############################################\n",
    "def test_convexity(k, a, b, rho, k_bar, sig):\n",
    "    square_rt = np.sqrt( (k - k_bar)*(k - k_bar) + sig*sig)\n",
    "    \n",
    "    w = SVI(k, a, b, rho, k_bar, sig)\n",
    "    \n",
    "    first_der_w = b*rho + b*(k - k_bar) / square_rt\n",
    "    \n",
    "    second_der_w = b*sig*sig / (square_rt**3)\n",
    "    \n",
    "    ################################################################\n",
    "    ## TO DO: evaluate the function g_SVI(k) defined in Condition 1 \n",
    "    ################################################################\n",
    "    \n",
    "    g = ????\n",
    "    \n",
    "    return g\n",
    "\n",
    "##################################################\n",
    "## TO DO: complete the following function, which\n",
    "## evaluates and plot the function g_SVI(k)\n",
    "## on a fixed grid of values for k\n",
    "##################################################\n",
    "def numerical_test_convexity(a, b, rho, k_bar, sig, log_mon_lower=-1, log_mon_upper=1):\n",
    "    log_moneyness_test = np.linspace(log_mon_lower, log_mon_upper, 200)\n",
    "\n",
    "    test_fct_g = ????\n",
    "\n",
    "    plt.figure(figsize=(9,6))\n",
    "\n",
    "    plt.plot( ???? , ???? , color=\"red\", linewidth=0., marker=\".\", markersize=4, \\\n",
    "             label=r\"$a$=%1.2f,  $b$=%1.2f,  $\\rho$=%1.2f,  $k_bar$=%1.2f,  $\\sigma$=%1.2f\" %(a,b,rho,k_bar,sig))\n",
    "\n",
    "    plt.axhline(0., linestyle=\"--\", color=\"k\")\n",
    "\n",
    "    plt.xlabel(\"log-forward moneyness $k$\", fontsize=14)\n",
    "    plt.ylabel(\"Function g(k) in Condition 1\", fontsize=14)\n",
    "    plt.title(r\"Test of butterfly arbitrage for SVI parameterisation\", fontsize=18)\n",
    "\n",
    "    plt.legend(loc=9, fontsize=14, bbox_to_anchor=(1.4, 1.0), ncol=1)\n",
    "\n",
    "    plt.show()\n",
    "    \n",
    "    # We test whether all the entries of the array test_fct_g have positive values\n",
    "    assert( (test_fct_g >= 0).all() )\n",
    "    \n",
    "    pass\n",
    "    \n",
    "numerical_test_convexity(a, b, rho, k_bar, sig)"
   ]
  },
  {
   "cell_type": "markdown",
   "metadata": {},
   "source": [
    "$\\blacktriangleright$ Now consider the following parameter set:"
   ]
  },
  {
   "cell_type": "code",
   "execution_count": null,
   "metadata": {},
   "outputs": [],
   "source": [
    "a = -0.041\n",
    "b = 0.12\n",
    "rho = 0.3586\n",
    "k_bar = 0.3060\n",
    "sig = 0.4153"
   ]
  },
  {
   "cell_type": "markdown",
   "metadata": {},
   "source": [
    "and re-run the tests above."
   ]
  },
  {
   "cell_type": "markdown",
   "metadata": {},
   "source": [
    "### Back to the calibration example on SPX data"
   ]
  },
  {
   "cell_type": "markdown",
   "metadata": {},
   "source": [
    "Let us reload the dataset (SPX implied volatility smile) we have used in the previous notebook (observation date = Mon Jan 29 2024, and expiration Date = Fri Feb 16 2024, file *SPX_vol_quotes.csv*).\n",
    "\n",
    "We also import the optimal SVI parameters we have already calibrated therein."
   ]
  },
  {
   "cell_type": "code",
   "execution_count": null,
   "metadata": {},
   "outputs": [],
   "source": [
    "quotes = np.loadtxt(open(\"SPX_vol_quotes.csv\", \"r\"), delimiter=\";\")\n",
    "\n",
    "mkt_log_mon = quotes[0]\n",
    "vols_calls = quotes[1]\n",
    "    \n",
    "# We only have one option maturity, equal to 18 days\n",
    "maturity = 18/365\n",
    "\n",
    "########################################################################################\n",
    "## The SVI parameters already calibrated (previous TP) via least-square minimimization \n",
    "## (without any weight on the loss function!)\n",
    "########################################################################################\n",
    "a_star, b_star, rho_star, k_bar_star, sig_star = 8.387e-34, 0.04249, -0.999, -0.1119, 0.1118"
   ]
  },
  {
   "cell_type": "markdown",
   "metadata": {},
   "source": [
    "$\\blacktriangleright$ Let us plot again the resulting market smile and SVI smile:"
   ]
  },
  {
   "cell_type": "code",
   "execution_count": null,
   "metadata": {},
   "outputs": [],
   "source": [
    "plt.figure(figsize=(9,6))\n",
    "\n",
    "###########\n",
    "# Market\n",
    "###########\n",
    "plt.plot(mkt_log_mon, vols_calls,\n",
    "         color='k', linewidth=0., marker=\"+\", markersize=14, label=\"Mkt implied vols\")\n",
    "\n",
    "##########\n",
    "# Model\n",
    "##########\n",
    "total_variances_fit = SVI(mkt_log_mon, a_star, b_star, rho_star, k_bar_star, sig_star)\n",
    "\n",
    "implied_vols_fit = ???\n",
    "\n",
    "plt.plot(mkt_log_mon, implied_vols_fit,\n",
    "         color='royalblue', linewidth=1.5, \n",
    "         label=r\"$a$=%1.3f,  $b$=%1.2f,  $\\rho$=%1.2f,  $k_{bar}$=%1.2f,  $\\sigma$=%1.2f\" %(a_star, b_star, rho_star, k_bar_star, sig_star))\n",
    "\n",
    "plt.xlabel(r\"log-forward moneyness $k$\", fontsize=14)\n",
    "plt.ylabel(\"Implied vol\", fontsize=14)\n",
    "plt.title(\"Market implied vol and SVI fit\", fontsize=18)\n",
    "\n",
    "plt.legend(loc=9, fontsize=14, bbox_to_anchor=(1.4, 1.0), ncol=1)"
   ]
  },
  {
   "cell_type": "markdown",
   "metadata": {},
   "source": [
    "#### $\\blacktriangleright$ TO DO: check a posteriori the no-Butterfly arbitrage conditions on the calibrated SVI"
   ]
  },
  {
   "cell_type": "code",
   "execution_count": null,
   "metadata": {},
   "outputs": [],
   "source": [
    "## TO DO: test positivity\n",
    "\n",
    "## TO DO: test the no-butterfly arbitrage condition (slope + convexity)"
   ]
  },
  {
   "cell_type": "markdown",
   "metadata": {},
   "source": [
    "#### $\\blacktriangleright$ According to our numerical check, the no arbitrage condition is satisfied for the calibrated SVI slice above...\n",
    "\n",
    "..but, as we have seen in one of the numerical examples, this might fail to be the case even for parameter sets that produce a reasonably-looking implied volatility smile.\n",
    "\n",
    "A __possible (even if not perfect) solution__ to avoid such situations is to calibrate a SVI parameterisation while _penalizing_ the parameters that violate the no arbitrage condition:\n",
    "\n",
    "$$\n",
    "\\min_{(a, \\, b, \\, \\rho, \\, \\bar k, \\, \\sigma)}\n",
    "\\biggl(\n",
    "\\sum_{i} \\left( w^{\\mathrm{mkt}}(k_i) - w_\\mathrm{SVI} \\left(k_i \\, ; a,b,\\rho,\\bar k,\\sigma \\right) \\right)^2\n",
    "+ \\lambda \\sum_{k \\in \\pi} \\Bigl(   g_\\mathrm{SVI} \\left(k \\, ; a,b,\\rho,\\bar k,\\sigma \\right)^-  \\Bigr)^2\n",
    "\\biggr)\n",
    "$$\n",
    "\n",
    "where:\n",
    "\n",
    "+ $k_i$ are the observed market log-moneyness values\n",
    "+ $\\pi$ is some pre-defined grid of log-moneyness values (possibly larger that the set $\\{k_i\\}_i$)\n",
    "+ $x^-$ denotes the negative part. \n",
    "\n",
    "In the problem above, $\\lambda > 0$ is a penalization parameter to be chosen by the user.\n",
    "Of course, the choice of $\\lambda$ affects the final result. On the one hand, one would like to take $\\lambda$ large, so that the violation of the no-arbitrage condition is strongly penalised.\n",
    "On the other, we would like to take $\\lambda$ small, so that the minimization problem above is close to the original one (the least square calibration of an unconstrained SVI). \n",
    "In general, the choice of $\\lambda$ for a given calibration problem is not obvious.\n",
    "\n",
    "$\\blacktriangleright$  We present below an alternative solution that allows to formulate the no-arbitrage constraints in terms of simple and explicitly checkable conditions in the parameter space: __another parameterisation, called SSVI__.\n",
    "The price to pay for this advantage is a weaker calibration power (SSVI has 3 available parameters instead of 5)."
   ]
  },
  {
   "cell_type": "markdown",
   "metadata": {},
   "source": [
    "## Another parametric model that avoids arbitrage and that parametrizes the whole surface: the SSVI (\"surface SVI\") parametric family"
   ]
  },
  {
   "cell_type": "markdown",
   "metadata": {},
   "source": [
    "So far, we have worked with one single maturity $T$.\n",
    "\n",
    "How to extend the parametric model to several maturities, that is to the whole volatility surface ?\n",
    "\n",
    "A solution is provided by the SSVI parameterisation of [Gatheral and Jacquier, 2014](https://www.tandfonline.com/doi/abs/10.1080/14697688.2013.819986), constructed as follows: first define the\n",
    "\n",
    "### SSVI slice\n",
    "\n",
    "$$\n",
    "w_\\mathrm{SSVI}(k) = \\frac{\\theta} 2 \\Bigl(1 + \\varphi \\, \\rho k + \\sqrt{(\\varphi \\, k + \\rho)^2 + 1 - \\rho^2} \\Bigr),\n",
    "\\qquad k \\in \\mathbb R\n",
    "$$\n",
    "\n",
    "where \n",
    "\n",
    "$$\n",
    "\\theta \\ge 0, \\qquad \\varphi \\ge 0, \\qquad \\rho \\in (-1,1).\n",
    "$$\n",
    "\n",
    "Note that $w_\\mathrm{SSVI}(k) \\big|_{k=0} = \\theta$, so that the parameter $\\theta$ corresponds to the ATM total variance."
   ]
  },
  {
   "cell_type": "markdown",
   "metadata": {},
   "source": [
    "It is possible to see that the SSVI slice $w_\\mathrm{SSVI}$ is a special case of the original SVI $w_\\mathrm{SVI}$, parameterised by __three parameters instead of five__: the mapping \"SSVI to SVI\" is given by \n",
    "\n",
    "$$\n",
    "w_\\mathrm{SSVI}(k; \\theta, \\varphi, \\rho) = w_\\mathrm{SVI}(k; a,b, \\rho, \\bar k, \\sigma)\n",
    "$$\n",
    "where\n",
    "$$\n",
    "a = \\frac \\theta 2 (1-\\rho^2), \\quad\n",
    "b = \\frac{\\theta \\varphi} 2, \\quad\n",
    "\\bar k = -\\frac \\rho \\varphi, \\quad\n",
    "\\sigma = \\frac{\\sqrt{1 - \\rho^2}}\\varphi.\n",
    "$$"
   ]
  },
  {
   "cell_type": "markdown",
   "metadata": {},
   "source": [
    "#### $\\blacktriangleright$ The first advantage of the SSVI slice with respect to SVI (at fixed maturity):\n",
    "\n",
    "+ Thanks to the reduced complexity (3 parameters instead of 5), the no-butterfly arbitrage conditions 1) and 3) on a SSVI slice can be replaced with much simpler conditions on the parameters $(\\theta, \\varphi, \\rho)$, given in [Gatheral and Jacquier 2014], Theorem 4.2, which states that the no-arbitrage conditions 1) and 3) are satisfied if\n",
    "\n",
    "$$\n",
    "\\left\\{\n",
    "\\begin{aligned}\n",
    "&\\theta \\, \\varphi \\, (1+|\\rho|) < 4\n",
    "\\\\\n",
    "&\\theta \\, \\varphi^2 \\, (1+|\\rho|) \\le 4.\n",
    "\\end{aligned}\n",
    "\\right.\n",
    "$$\n",
    "\n",
    "#### $\\blacktriangleright$ The disadvantages\n",
    "\n",
    "+ Of course, 3 parameters have a reduced calibration power with respect to 5.\n",
    "\n",
    "\n",
    "+ The two inequalities above are *sufficient* conditions for the absence of butterfly arbitrage, but they are not necessary conditions (in other words: they parameterize a sub-set of the whole admissible set of no-arbitrage values of  $(\\theta, \\varphi, \\rho)$)."
   ]
  },
  {
   "cell_type": "markdown",
   "metadata": {},
   "source": [
    "$\\blacktriangleright$ Try a calibration of the SSVI slice (as opposed to SVI) to the market data above."
   ]
  },
  {
   "cell_type": "markdown",
   "metadata": {},
   "source": [
    "### Full SSVI surface\n",
    "\n",
    "At this stage, we have only worked with fixed-maturity slices of the implied volatility surface. We haven't defined a function $w_\\mathrm{SSVI}$ of $(T, k)$ yet.\n",
    "\n",
    "Now, given:\n",
    "\n",
    "+ a curve $T \\mapsto \\theta_T \\ge 0$ (representing at-the-money total implied variance for maturity $T$)\n",
    "\n",
    "\n",
    "+ a function $\\varphi: \\mathbb R_+ \\to \\mathbb R_+$,\n",
    "\n",
    "the __surface SVI__ model is defined by\n",
    "\n",
    "$$\n",
    "\\begin{aligned}\n",
    "w_\\mathrm{SSVI}(T, k) \n",
    "&= \n",
    "w_\\mathrm{SSVI}(k; \\ \\theta_{T}, \\ \\varphi(\\theta_T), \\ \\rho) \n",
    "\\\\\n",
    "&= \\frac{\\theta_{T}} 2 \\Bigl(1 + \\varphi(\\theta_{T}) \\rho k + \\sqrt{\\bigl(\\varphi(\\theta_{T}\\bigr) k + \\rho)^2 + 1 - \\rho^2} \\Bigr),\n",
    "\\qquad k \\in \\mathbb R, T > 0.\n",
    "\\end{aligned}\n",
    "$$"
   ]
  },
  {
   "cell_type": "markdown",
   "metadata": {},
   "source": [
    "#### $\\blacktriangleright$ The second result on SSVI:\n",
    "\n",
    "The __no-calendar spread arbitrage condition__ from the lectures:\n",
    "\n",
    "2) The function $T \\mapsto w_\\mathrm{SSVI}(T, k) $ is increasing, for every $k \\in \\mathbb R$,\n",
    "\n",
    "can also be reformulated as a simple condition on the functions $\\theta_\\cdot$ and $\\varphi(\\cdot)$, see [Gatheral and Jacquier 2014], Theorem 4.1:\n",
    "\n",
    "$$\n",
    "\\left\\{\n",
    "\\begin{aligned}\n",
    "&T \\mapsto \\theta_T \\mbox{ is increasing }\n",
    "\\\\\n",
    "&0 \n",
    "\\le\n",
    "\\partial_\\theta (\\theta \\, \\varphi(\\theta))\n",
    "\\le\n",
    "\\frac1{\\rho^2} \\left(1+ \\sqrt{1-\\rho^2}\\right) \\varphi(\\theta) \\qquad \\forall \\theta,\n",
    "\\end{aligned}\n",
    "\\right.\n",
    "$$\n",
    "\n",
    "where, in the second line, we have supposed that the functions $\\theta_\\cdot$ and $\\varphi(\\cdot)$ are differentiable.\n",
    "\n",
    "[Gatheral and Jacquier 2014] provide parametric examples of functions $T \\mapsto \\theta_T$ and $\\theta \\mapsto \\varphi(\\theta)$ that satisfy the no-calendar spread arbitrage condition above."
   ]
  }
 ],
 "metadata": {
  "kernelspec": {
   "display_name": "Python 3",
   "language": "python",
   "name": "python3"
  },
  "language_info": {
   "codemirror_mode": {
    "name": "ipython",
    "version": 3
   },
   "file_extension": ".py",
   "mimetype": "text/x-python",
   "name": "python",
   "nbconvert_exporter": "python",
   "pygments_lexer": "ipython3",
   "version": "3.6.5"
  }
 },
 "nbformat": 4,
 "nbformat_minor": 2
}
